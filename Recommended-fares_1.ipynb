{
 "cells": [
  {
   "cell_type": "markdown",
   "metadata": {},
   "source": [
    "# Рекомендация тарифов"
   ]
  },
  {
   "cell_type": "markdown",
   "metadata": {},
   "source": [
    "В нашем распоряжении данные о поведении клиентов, которые уже перешли на эти тарифы (из проекта курса «Статистический анализ данных»). Нужно построить модель для задачи классификации, которая выберет подходящий тариф. Предобработка данных не понадобится — вы её уже сделали.\n",
    "\n",
    "Постройте модель с максимально большим значением *accuracy*. Чтобы сдать проект успешно, нужно довести долю правильных ответов по крайней мере до 0.75. Проверьте *accuracy* на тестовой выборке самостоятельно."
   ]
  },
  {
   "cell_type": "markdown",
   "metadata": {},
   "source": [
    "## 1. Откройте и изучите файл"
   ]
  },
  {
   "cell_type": "code",
   "execution_count": 1,
   "metadata": {},
   "outputs": [],
   "source": [
    "import pandas as pd\n",
    "from sklearn.tree import DecisionTreeClassifier\n",
    "from sklearn.ensemble import RandomForestClassifier\n",
    "from sklearn.ensemble import RandomForestClassifier\n",
    "from sklearn.linear_model import LogisticRegression\n",
    "from sklearn.model_selection import train_test_split\n",
    "from sklearn.metrics import accuracy_score\n"
   ]
  },
  {
   "cell_type": "code",
   "execution_count": 2,
   "metadata": {},
   "outputs": [],
   "source": [
    "df=pd.read_csv('users_behavior.csv')\n"
   ]
  },
  {
   "cell_type": "code",
   "execution_count": 3,
   "metadata": {},
   "outputs": [
    {
     "data": {
      "text/html": [
       "<div>\n",
       "<style scoped>\n",
       "    .dataframe tbody tr th:only-of-type {\n",
       "        vertical-align: middle;\n",
       "    }\n",
       "\n",
       "    .dataframe tbody tr th {\n",
       "        vertical-align: top;\n",
       "    }\n",
       "\n",
       "    .dataframe thead th {\n",
       "        text-align: right;\n",
       "    }\n",
       "</style>\n",
       "<table border=\"1\" class=\"dataframe\">\n",
       "  <thead>\n",
       "    <tr style=\"text-align: right;\">\n",
       "      <th></th>\n",
       "      <th>Unnamed: 0</th>\n",
       "      <th>calls</th>\n",
       "      <th>minutes</th>\n",
       "      <th>messages</th>\n",
       "      <th>mb_used</th>\n",
       "      <th>is_ultra</th>\n",
       "    </tr>\n",
       "  </thead>\n",
       "  <tbody>\n",
       "    <tr>\n",
       "      <th>0</th>\n",
       "      <td>0</td>\n",
       "      <td>40.0</td>\n",
       "      <td>311.90</td>\n",
       "      <td>83.0</td>\n",
       "      <td>19915.42</td>\n",
       "      <td>0</td>\n",
       "    </tr>\n",
       "    <tr>\n",
       "      <th>1</th>\n",
       "      <td>1</td>\n",
       "      <td>85.0</td>\n",
       "      <td>516.75</td>\n",
       "      <td>56.0</td>\n",
       "      <td>22696.96</td>\n",
       "      <td>0</td>\n",
       "    </tr>\n",
       "    <tr>\n",
       "      <th>2</th>\n",
       "      <td>2</td>\n",
       "      <td>77.0</td>\n",
       "      <td>467.66</td>\n",
       "      <td>86.0</td>\n",
       "      <td>21060.45</td>\n",
       "      <td>0</td>\n",
       "    </tr>\n",
       "    <tr>\n",
       "      <th>3</th>\n",
       "      <td>3</td>\n",
       "      <td>106.0</td>\n",
       "      <td>745.53</td>\n",
       "      <td>81.0</td>\n",
       "      <td>8437.39</td>\n",
       "      <td>1</td>\n",
       "    </tr>\n",
       "    <tr>\n",
       "      <th>4</th>\n",
       "      <td>4</td>\n",
       "      <td>66.0</td>\n",
       "      <td>418.74</td>\n",
       "      <td>1.0</td>\n",
       "      <td>14502.75</td>\n",
       "      <td>0</td>\n",
       "    </tr>\n",
       "  </tbody>\n",
       "</table>\n",
       "</div>"
      ],
      "text/plain": [
       "   Unnamed: 0  calls  minutes  messages   mb_used  is_ultra\n",
       "0           0   40.0   311.90      83.0  19915.42         0\n",
       "1           1   85.0   516.75      56.0  22696.96         0\n",
       "2           2   77.0   467.66      86.0  21060.45         0\n",
       "3           3  106.0   745.53      81.0   8437.39         1\n",
       "4           4   66.0   418.74       1.0  14502.75         0"
      ]
     },
     "execution_count": 3,
     "metadata": {},
     "output_type": "execute_result"
    }
   ],
   "source": [
    "df.head()"
   ]
  },
  {
   "cell_type": "code",
   "execution_count": 11,
   "metadata": {},
   "outputs": [
    {
     "name": "stdout",
     "output_type": "stream",
     "text": [
      "<class 'pandas.core.frame.DataFrame'>\n",
      "RangeIndex: 3214 entries, 0 to 3213\n",
      "Data columns (total 5 columns):\n",
      "calls       3214 non-null float64\n",
      "minutes     3214 non-null float64\n",
      "messages    3214 non-null float64\n",
      "mb_used     3214 non-null float64\n",
      "is_ultra    3214 non-null int64\n",
      "dtypes: float64(4), int64(1)\n",
      "memory usage: 125.7 KB\n"
     ]
    }
   ],
   "source": [
    "df.info()"
   ]
  },
  {
   "cell_type": "markdown",
   "metadata": {},
   "source": [
    "Дата сет имеет 5 столбцов и 3214 строк.\n",
    "Пропуской нет!\n",
    "Столбцы:\n",
    "- сalls — количество звонков,\n",
    "- minutes — суммарная длительность звонков в минутах,\n",
    "- messages — количество sms-сообщений,\n",
    "- mb_used — израсходованный интернет-трафик в Мб,\n",
    "- is_ultra — каким тарифом пользовался в течение месяца («Ультра» — 1, «Смарт» — 0).\n",
    "\n",
    "Типы данных соответствуют."
   ]
  },
  {
   "cell_type": "markdown",
   "metadata": {},
   "source": [
    "## 2. Разбейте данные на выборки"
   ]
  },
  {
   "cell_type": "code",
   "execution_count": 17,
   "metadata": {},
   "outputs": [],
   "source": [
    "# Разбиваю датасет на 3 выборки:обучающую, валидационную, тестовую\n",
    "df_train, df_valid_test=train_test_split(df,train_size=0.6,test_size=0.4,random_state=1234)\n",
    "df_valid,df_test=train_test_split(df_valid_test,test_size=0.5,random_state=1234)"
   ]
  },
  {
   "cell_type": "code",
   "execution_count": 18,
   "metadata": {},
   "outputs": [
    {
     "data": {
      "text/plain": [
       "1928"
      ]
     },
     "execution_count": 18,
     "metadata": {},
     "output_type": "execute_result"
    }
   ],
   "source": [
    "len(df_train) # выборка для обучения"
   ]
  },
  {
   "cell_type": "code",
   "execution_count": 19,
   "metadata": {},
   "outputs": [
    {
     "data": {
      "text/plain": [
       "643"
      ]
     },
     "execution_count": 19,
     "metadata": {},
     "output_type": "execute_result"
    }
   ],
   "source": [
    "len(df_valid) # выборка валидационная"
   ]
  },
  {
   "cell_type": "code",
   "execution_count": 20,
   "metadata": {},
   "outputs": [
    {
     "data": {
      "text/plain": [
       "643"
      ]
     },
     "execution_count": 20,
     "metadata": {},
     "output_type": "execute_result"
    }
   ],
   "source": [
    "len(df_test) # выборка тестовая"
   ]
  },
  {
   "cell_type": "markdown",
   "metadata": {},
   "source": [
    "## 3. Исследуйте модели"
   ]
  },
  {
   "cell_type": "markdown",
   "metadata": {},
   "source": [
    "На базе обучающей выборки формирую датасет признаков и serias целевого признака ['is_ultra']"
   ]
  },
  {
   "cell_type": "code",
   "execution_count": 32,
   "metadata": {},
   "outputs": [],
   "source": [
    "features_train=df_train.drop(['is_ultra'],axis=1)\n",
    "target_train=df_train['is_ultra']"
   ]
  },
  {
   "cell_type": "code",
   "execution_count": 33,
   "metadata": {},
   "outputs": [
    {
     "data": {
      "text/html": [
       "<div>\n",
       "<style scoped>\n",
       "    .dataframe tbody tr th:only-of-type {\n",
       "        vertical-align: middle;\n",
       "    }\n",
       "\n",
       "    .dataframe tbody tr th {\n",
       "        vertical-align: top;\n",
       "    }\n",
       "\n",
       "    .dataframe thead th {\n",
       "        text-align: right;\n",
       "    }\n",
       "</style>\n",
       "<table border=\"1\" class=\"dataframe\">\n",
       "  <thead>\n",
       "    <tr style=\"text-align: right;\">\n",
       "      <th></th>\n",
       "      <th>calls</th>\n",
       "      <th>minutes</th>\n",
       "      <th>messages</th>\n",
       "      <th>mb_used</th>\n",
       "    </tr>\n",
       "  </thead>\n",
       "  <tbody>\n",
       "    <tr>\n",
       "      <td>265</td>\n",
       "      <td>60.0</td>\n",
       "      <td>442.02</td>\n",
       "      <td>16.0</td>\n",
       "      <td>18306.45</td>\n",
       "    </tr>\n",
       "    <tr>\n",
       "      <td>1410</td>\n",
       "      <td>42.0</td>\n",
       "      <td>333.36</td>\n",
       "      <td>48.0</td>\n",
       "      <td>14566.34</td>\n",
       "    </tr>\n",
       "    <tr>\n",
       "      <td>728</td>\n",
       "      <td>43.0</td>\n",
       "      <td>298.42</td>\n",
       "      <td>12.0</td>\n",
       "      <td>18311.24</td>\n",
       "    </tr>\n",
       "    <tr>\n",
       "      <td>552</td>\n",
       "      <td>16.0</td>\n",
       "      <td>132.80</td>\n",
       "      <td>107.0</td>\n",
       "      <td>21893.35</td>\n",
       "    </tr>\n",
       "    <tr>\n",
       "      <td>3117</td>\n",
       "      <td>46.0</td>\n",
       "      <td>336.76</td>\n",
       "      <td>49.0</td>\n",
       "      <td>10710.72</td>\n",
       "    </tr>\n",
       "  </tbody>\n",
       "</table>\n",
       "</div>"
      ],
      "text/plain": [
       "      calls  minutes  messages   mb_used\n",
       "265    60.0   442.02      16.0  18306.45\n",
       "1410   42.0   333.36      48.0  14566.34\n",
       "728    43.0   298.42      12.0  18311.24\n",
       "552    16.0   132.80     107.0  21893.35\n",
       "3117   46.0   336.76      49.0  10710.72"
      ]
     },
     "execution_count": 33,
     "metadata": {},
     "output_type": "execute_result"
    }
   ],
   "source": [
    "df_features_train.head(5) # Признаки "
   ]
  },
  {
   "cell_type": "code",
   "execution_count": 34,
   "metadata": {},
   "outputs": [
    {
     "data": {
      "text/plain": [
       "265     1\n",
       "1410    0\n",
       "728     0\n",
       "552     1\n",
       "3117    0\n",
       "Name: is_ultra, dtype: int64"
      ]
     },
     "execution_count": 34,
     "metadata": {},
     "output_type": "execute_result"
    }
   ],
   "source": [
    "df_target_train.head() # целевой признак"
   ]
  },
  {
   "cell_type": "markdown",
   "metadata": {},
   "source": [
    "На базе валидационной выборки формирую датасет признаков и serias целевого признака ['is_ultra']"
   ]
  },
  {
   "cell_type": "code",
   "execution_count": 35,
   "metadata": {},
   "outputs": [],
   "source": [
    "features_valid=df_valid.drop(['is_ultra'],axis=1) # Признаки \n",
    "target_valid=df_valid['is_ultra'] # целевой признак"
   ]
  },
  {
   "cell_type": "markdown",
   "metadata": {},
   "source": [
    "На базе тестовой выборки формирую датасет признаков и serias целевого признака ['is_ultra']"
   ]
  },
  {
   "cell_type": "code",
   "execution_count": 36,
   "metadata": {},
   "outputs": [],
   "source": [
    "features_test=df_valid.drop(['is_ultra'],axis=1) # Признаки \n",
    "target_test=df_valid['is_ultra'] # целевой признак"
   ]
  },
  {
   "cell_type": "markdown",
   "metadata": {},
   "source": [
    "#### Модель \"Дерево решений\""
   ]
  },
  {
   "cell_type": "code",
   "execution_count": 62,
   "metadata": {},
   "outputs": [
    {
     "name": "stdout",
     "output_type": "stream",
     "text": [
      "max_depth: 1 accuracy: 0.776049766718507\n",
      "max_depth: 3 accuracy: 0.8118195956454122\n",
      "max_depth: 5 accuracy: 0.8087091757387247\n",
      "max_depth: 7 accuracy: 0.8320373250388803\n",
      "max_depth: 9 accuracy: 0.8180404354587869\n",
      "max_depth: 11 accuracy: 0.8180404354587869\n",
      "max_depth: 13 accuracy: 0.8040435458786936\n",
      "max_depth: 15 accuracy: 0.7744945567651633\n",
      "max_depth: 17 accuracy: 0.7480559875583204\n",
      "max_depth: 19 accuracy: 0.744945567651633\n",
      "max_depth: 21 accuracy: 0.7620528771384136\n",
      "max_depth: 23 accuracy: 0.7387247278382582\n",
      "max_depth: 25 accuracy: 0.7542768273716952\n",
      "max_depth: 27 accuracy: 0.7542768273716952\n",
      "max_depth: 29 accuracy: 0.7402799377916018\n"
     ]
    }
   ],
   "source": [
    "for depth in range(1,30,2):\n",
    "    model_tree=DecisionTreeClassifier(random_state=1234, max_depth=depth) # присваиваем модели имя\n",
    "    model_tree.fit(features_train,target_train) # обучаем\n",
    "    prediction_tree=model_tree.predict(features_valid) # проверяем\n",
    "    print('max_depth:',depth,end='')\n",
    "    print(' accuracy:',accuracy_score(prediction_tree,target_valid))"
   ]
  },
  {
   "cell_type": "markdown",
   "metadata": {},
   "source": [
    "### Обучение прошло! При max_depth= 7 (лучшие значения гиперпараметров), качество модели \"дерево предсказания\"=0.83"
   ]
  },
  {
   "cell_type": "markdown",
   "metadata": {},
   "source": [
    "#### Модель \"Случайный лес\""
   ]
  },
  {
   "cell_type": "code",
   "execution_count": 88,
   "metadata": {},
   "outputs": [
    {
     "name": "stdout",
     "output_type": "stream",
     "text": [
      "n_estimators: 1 accuracy: 0.8055987558320373\n",
      "n_estimators: 3 accuracy: 0.8149300155520995\n",
      "n_estimators: 5 accuracy: 0.8320373250388803\n",
      "n_estimators: 7 accuracy: 0.838258164852255\n",
      "n_estimators: 9 accuracy: 0.8429237947122862\n",
      "n_estimators: 11 accuracy: 0.8429237947122862\n",
      "n_estimators: 13 accuracy: 0.8398133748055988\n",
      "n_estimators: 15 accuracy: 0.8398133748055988\n",
      "n_estimators: 17 accuracy: 0.838258164852255\n",
      "n_estimators: 19 accuracy: 0.838258164852255\n",
      "n_estimators: 21 accuracy: 0.8367029548989113\n",
      "n_estimators: 23 accuracy: 0.8367029548989113\n",
      "n_estimators: 25 accuracy: 0.8429237947122862\n",
      "n_estimators: 27 accuracy: 0.838258164852255\n",
      "n_estimators: 29 accuracy: 0.8351477449455676\n",
      "n_estimators: 31 accuracy: 0.8351477449455676\n",
      "n_estimators: 33 accuracy: 0.8351477449455676\n",
      "n_estimators: 35 accuracy: 0.8351477449455676\n",
      "n_estimators: 37 accuracy: 0.833592534992224\n",
      "n_estimators: 39 accuracy: 0.833592534992224\n",
      "n_estimators: 41 accuracy: 0.8351477449455676\n",
      "n_estimators: 43 accuracy: 0.838258164852255\n",
      "n_estimators: 45 accuracy: 0.833592534992224\n",
      "n_estimators: 47 accuracy: 0.8367029548989113\n",
      "n_estimators: 49 accuracy: 0.8367029548989113\n"
     ]
    }
   ],
   "source": [
    "for estim in range(1,50,2):    \n",
    "    model_forest=RandomForestClassifier(max_depth=10,n_estimators=estim,random_state=1234,min_samples_leaf=5) # присваиваем модели имя\n",
    "    model_forest.fit(features_train,target_train) # обучаем\n",
    "    prediction_forest=model_forest.predict(features_valid) # проверяем\n",
    "    print('n_estimators:',estim,end=\"\")\n",
    "    print(' accuracy:',accuracy_score(prediction_forest,target_valid))"
   ]
  },
  {
   "cell_type": "markdown",
   "metadata": {},
   "source": [
    "### Обучение прошло! При max_depth= 10, max_samples_leaf=5 и n_estimators= 9 (лучшее значение), качество модели \"случайный лес\"=0.84"
   ]
  },
  {
   "cell_type": "markdown",
   "metadata": {},
   "source": [
    "#### Модель \"Логистическая регрессия\""
   ]
  },
  {
   "cell_type": "code",
   "execution_count": 69,
   "metadata": {},
   "outputs": [
    {
     "name": "stdout",
     "output_type": "stream",
     "text": [
      "accuracy: 0.7216174183514774\n"
     ]
    },
    {
     "name": "stderr",
     "output_type": "stream",
     "text": [
      "/opt/conda/lib/python3.7/site-packages/sklearn/linear_model/logistic.py:432: FutureWarning: Default solver will be changed to 'lbfgs' in 0.22. Specify a solver to silence this warning.\n",
      "  FutureWarning)\n"
     ]
    }
   ],
   "source": [
    "model_logistic_Reg=LogisticRegression() # присваиваем модели имя\n",
    "model_logistic_Reg.fit(features_train,target_train) # обучаем\n",
    "predict_LogisticReg=model_logistic_Reg.predict(features_valid) # проверяем\n",
    "print('accuracy:',accuracy_score(predict_LogisticReg,target_valid))\n"
   ]
  },
  {
   "cell_type": "markdown",
   "metadata": {},
   "source": [
    "### Обучение прошло! Модель не переобучивается. Качество модели \"Логистическая регрессия\"= 0.72. Самое низкое качество!"
   ]
  },
  {
   "cell_type": "markdown",
   "metadata": {},
   "source": [
    "## Вывод:"
   ]
  },
  {
   "cell_type": "markdown",
   "metadata": {},
   "source": [
    "Обучая три разный модели были полученны лучшие метрики качества:\n",
    "    - Качество модели \"Дерево предсказания\" при гиперпараметрах max_depth= 7: 0.83\n",
    "    - Качество модели \"Случайный лес\" при гиперпараметрах max_depth= 10, max_samples_leaf=5 и n_estimators= 9: 0.84\n",
    "    - Качество модели \"Логистическая регрессия\": 0.72\n",
    "    \n",
    "Лучшей моделью получилась модель \"Случайный лес\""
   ]
  },
  {
   "cell_type": "markdown",
   "metadata": {},
   "source": [
    "## 4. Проверьте модель на тестовой выборке"
   ]
  },
  {
   "cell_type": "markdown",
   "metadata": {},
   "source": [
    "#### Тестирование данных на модели \"Дерево предсказаний\""
   ]
  },
  {
   "cell_type": "code",
   "execution_count": 93,
   "metadata": {},
   "outputs": [
    {
     "name": "stdout",
     "output_type": "stream",
     "text": [
      " accuracy: 0.8320373250388803\n"
     ]
    }
   ],
   "source": [
    "model_tree=DecisionTreeClassifier(random_state=1234, max_depth=7)\n",
    "model_tree.fit(features_train,target_train)\n",
    "prediction_tree=model_tree.predict(features_test)\n",
    "#print('max_depth:',depth,end='')\n",
    "print(' accuracy:',accuracy_score(prediction_tree,target_test))"
   ]
  },
  {
   "cell_type": "markdown",
   "metadata": {},
   "source": [
    "#### Тестирование данных на модели \"Случайный лес\""
   ]
  },
  {
   "cell_type": "code",
   "execution_count": 97,
   "metadata": {},
   "outputs": [
    {
     "name": "stdout",
     "output_type": "stream",
     "text": [
      " accuracy: 0.8429237947122862\n"
     ]
    }
   ],
   "source": [
    "model_forest=RandomForestClassifier(max_depth=10,n_estimators=9,random_state=1234,min_samples_leaf=5)\n",
    "model_forest.fit(features_train,target_train)\n",
    "prediction_forest=model_forest.predict(features_test)\n",
    "#print('n_estimators:',estim,end=\"\")\n",
    "print(' accuracy:',accuracy_score(prediction_forest,target_test))"
   ]
  },
  {
   "cell_type": "markdown",
   "metadata": {},
   "source": [
    "#### Тестирование данных на модели \"Логистическая регрессия\""
   ]
  },
  {
   "cell_type": "code",
   "execution_count": 95,
   "metadata": {},
   "outputs": [
    {
     "name": "stdout",
     "output_type": "stream",
     "text": [
      "accuracy: 0.7216174183514774\n"
     ]
    },
    {
     "name": "stderr",
     "output_type": "stream",
     "text": [
      "/opt/conda/lib/python3.7/site-packages/sklearn/linear_model/logistic.py:432: FutureWarning: Default solver will be changed to 'lbfgs' in 0.22. Specify a solver to silence this warning.\n",
      "  FutureWarning)\n"
     ]
    }
   ],
   "source": [
    "model_logistic_Reg=LogisticRegression()\n",
    "model_logistic_Reg.fit(features_train,target_train)\n",
    "predict_LogisticReg=model_logistic_Reg.predict(features_test)\n",
    "print('accuracy:',accuracy_score(predict_LogisticReg,target_test))"
   ]
  },
  {
   "cell_type": "markdown",
   "metadata": {},
   "source": [
    "## Выводы:"
   ]
  },
  {
   "cell_type": "markdown",
   "metadata": {},
   "source": [
    "Модели проверены на тестовой выборке. Метрики качества тестовой выборки=метрикам качества валидационной модели "
   ]
  }
 ],
 "metadata": {
  "kernelspec": {
   "display_name": "Python 3",
   "language": "python",
   "name": "python3"
  },
  "language_info": {
   "codemirror_mode": {
    "name": "ipython",
    "version": 3
   },
   "file_extension": ".py",
   "mimetype": "text/x-python",
   "name": "python",
   "nbconvert_exporter": "python",
   "pygments_lexer": "ipython3",
   "version": "3.7.6"
  }
 },
 "nbformat": 4,
 "nbformat_minor": 2
}
